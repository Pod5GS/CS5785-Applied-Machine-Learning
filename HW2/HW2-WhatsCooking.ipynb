{
 "cells": [
  {
   "cell_type": "code",
   "execution_count": 79,
   "metadata": {},
   "outputs": [
    {
     "name": "stdout",
     "output_type": "stream",
     "text": [
      "There are 39774 samples in the training set\n",
      "There are 20 types of cuisine\n",
      "There are 6697 types of unique ingredients\n"
     ]
    }
   ],
   "source": [
    "import json as js\n",
    "# import data\n",
    "def replacing(i):\n",
    "    i = i.encode('ascii', 'ignore')\n",
    "    i = i.replace('&', '').replace('(', '').replace(')','')\n",
    "    i = i.replace('\\'', '').replace('\\\\', '').replace(',','')\n",
    "    i = i.replace('.', '').replace('%', '').replace('/','')\n",
    "    i = i.replace('\"', '')    \n",
    "    return str.lower(''.join([c for c in i if not c.isdigit()]))\n",
    "\n",
    "with open('./cooking/train.json') as json_data:\n",
    "    data = js.load(json_data)\n",
    "    json_data.close()\n",
    "train_labels = [item['cuisine'].encode('ascii', 'ignore') for item in data]\n",
    "ingredients = [item['ingredients'] for item in data]\n",
    "unique_cuisines = set(classes)\n",
    "unique_ingredients = set()\n",
    "for ingredient in ingredients:\n",
    "    for item in ingredient:\n",
    "        unique_ingredients.add(replacing(item))\n",
    "print 'There are %d samples in the training set' % len(classes)\n",
    "print 'There are %d types of cuisine' % len(unique_cuisines)\n",
    "print 'There are %d types of unique ingredients' % len(unique_ingredients)"
   ]
  },
  {
   "cell_type": "code",
   "execution_count": 80,
   "metadata": {},
   "outputs": [
    {
     "data": {
      "text/plain": [
       "(39774, 6697)"
      ]
     },
     "execution_count": 80,
     "metadata": {},
     "output_type": "execute_result"
    }
   ],
   "source": [
    "# convert data to matrix\n",
    "train_data = []\n",
    "unique_ingredients = list(unique_ingredients)\n",
    "for item in data:\n",
    "    current_ingredients = [replacing(ingredient) for ingredient in item['ingredients']]\n",
    "    feature = []\n",
    "    for ingredient in unique_ingredients:\n",
    "        if ingredient in current_ingredients:\n",
    "            feature.append(1)\n",
    "        else:\n",
    "            feature.append(0)\n",
    "    train_data.append(feature)\n",
    "train_data = np.array(train_data)\n",
    "train_data.shape"
   ]
  },
  {
   "cell_type": "code",
   "execution_count": 82,
   "metadata": {},
   "outputs": [
    {
     "name": "stdout",
     "output_type": "stream",
     "text": [
      "3-Fold Cross Validation results of GaussianNB:  [ 0.37909975  0.38192926  0.377377  ]\n",
      "Average Accuracy is: 0.3795\n",
      "3-Fold Cross Validation results of BernoulliNB:  [ 0.68348036  0.68247983  0.68600966]\n",
      "Average Accuracy is: 0.6840\n"
     ]
    }
   ],
   "source": [
    "# Using Naive Bayes Classifier to perfrom 3-fold cross-validation\n",
    "from sklearn.naive_bayes import BernoulliNB, GaussianNB\n",
    "from sklearn.model_selection import cross_val_score\n",
    "clf1 = GaussianNB()\n",
    "clf2 = BernoulliNB()\n",
    "scores1 = cross_val_score(clf1, train_data, train_labels, cv=3)\n",
    "scores2 = cross_val_score(clf2, train_data, train_labels, cv=3)\n",
    "#result = [(ref == res, ref, res) for (ref, res) in zip(train_labels, clf2.predict(train_data))]\n",
    "#accuracy_learn = sum (r[0] for r in result) * 1.0 / len(result)\n",
    "print \"3-Fold Cross Validation results of GaussianNB: \",\n",
    "print scores1\n",
    "print \"Average Accuracy is: %.4f\" % scores1.mean()\n",
    "print \"3-Fold Cross Validation results of BernoulliNB: \",\n",
    "print scores2\n",
    "print \"Average Accuracy is: %.4f\" % scores2.mean()"
   ]
  },
  {
   "cell_type": "code",
   "execution_count": 83,
   "metadata": {},
   "outputs": [
    {
     "name": "stdout",
     "output_type": "stream",
     "text": [
      "3-Fold Cross Validation results of Logistic Regression:  [ 0.7749378   0.77366317  0.7789013 ]\n",
      "Average Accuracy is: 0.7758\n"
     ]
    }
   ],
   "source": [
    "# Using Logistic Regression Classifier to perform 3-fold cross-validation\n",
    "from sklearn.linear_model import LogisticRegression\n",
    "clf3 = LogisticRegression()\n",
    "scores3 = cross_val_score(clf3, train_data, train_labels, cv=3)\n",
    "print \"3-Fold Cross Validation results of Logistic Regression: \",\n",
    "print scores3\n",
    "print \"Average Accuracy is: %.4f\" % scores3.mean()"
   ]
  },
  {
   "cell_type": "code",
   "execution_count": null,
   "metadata": {
    "collapsed": true
   },
   "outputs": [],
   "source": [
    "# Using Logistic Regression Classifier to train all the data and generating labels for test data\n",
    "import csv\n",
    "with open('./cooking/test.json') as json_data:\n",
    "    data = js.load(json_data)\n",
    "    json_data.close()\n",
    "ingredients = [item['ingredients'] for item in data]\n",
    "test_data = []\n",
    "for item in data:\n",
    "    current_ingredients = [replacing(ingredient) for ingredient in item['ingredients']]\n",
    "    feature = []\n",
    "    for ingredient in unique_ingredients:\n",
    "        if ingredient in current_ingredients:\n",
    "            feature.append(1)\n",
    "        else:\n",
    "            feature.append(0)\n",
    "    test_data.append(feature)\n",
    "test_data = np.array(test_data)\n",
    "clf3.fit(train_data, train_labels)\n",
    "results = clf3.predict(test_data)\n",
    "with open('result.csv', 'wb') as outcsv:\n",
    "    writer = csv.writer(outcsv)\n",
    "    writer.writerow(['id', 'cuisine'])\n",
    "    for i in range(len(results)):\n",
    "        writer.writerow([data[i]['id'], results[i]])"
   ]
  }
 ],
 "metadata": {
  "kernelspec": {
   "display_name": "Python 2",
   "language": "python",
   "name": "python2"
  },
  "language_info": {
   "codemirror_mode": {
    "name": "ipython",
    "version": 2
   },
   "file_extension": ".py",
   "mimetype": "text/x-python",
   "name": "python",
   "nbconvert_exporter": "python",
   "pygments_lexer": "ipython2",
   "version": "2.7.13"
  }
 },
 "nbformat": 4,
 "nbformat_minor": 2
}
