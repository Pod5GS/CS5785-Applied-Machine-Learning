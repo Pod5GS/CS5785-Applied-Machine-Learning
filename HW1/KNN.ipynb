{
 "cells": [
  {
   "cell_type": "code",
   "execution_count": 2,
   "metadata": {
    "collapsed": true
   },
   "outputs": [],
   "source": [
    "import pandas as pd\n",
    "import numpy as np\n",
    "import operator\n",
    "from sklearn.model_selection import KFold\n",
    "from sklearn.metrics import confusion_matrix\n",
    "import csv"
   ]
  },
  {
   "cell_type": "code",
   "execution_count": 2,
   "metadata": {
    "collapsed": true
   },
   "outputs": [],
   "source": [
    "def load_train_data():\n",
    "    raw_data = pd.read_csv('data/train.csv')\n",
    "    data = np.array(pd.DataFrame(raw_data.iloc[:, 1:]))\n",
    "    labels = np.array(pd.DataFrame(raw_data.iloc[:, :1]))\n",
    "    data[data != 0] = 1\n",
    "    return data, labels\n",
    "\n",
    "def load_test_data():\n",
    "    raw_data = pd.read_csv('data/test.csv')\n",
    "    data = np.array(pd.DataFrame(raw_data.iloc[:, :]))\n",
    "    return data\n",
    "\n",
    "def predict(in_x, train_data, train_labels, k):\n",
    "    in_x = np.mat(in_x)\n",
    "    train_data = np.mat(train_data)\n",
    "    train_labels = np.mat(train_labels)\n",
    "    train_data_size = train_data.shape[0]\n",
    "    diff_matrix = np.tile(in_x, (train_data_size, 1)) - train_data\n",
    "    square_diff_matrix = np.array(diff_matrix) ** 2\n",
    "    square_distances = square_diff_matrix.sum(axis=1)\n",
    "    distances = square_distances ** 0.5\n",
    "    sorted_distances_indexes = distances.argsort()\n",
    "    count = {}\n",
    "    for i in range(k):\n",
    "        vote_i_label = train_labels[sorted_distances_indexes[i], 0]\n",
    "        count[vote_i_label] = count.get(vote_i_label, 0) + 1\n",
    "    sorted_count = sorted(count.iteritems(), key=operator.itemgetter(1), reverse=True)\n",
    "    return sorted_count[0][0]\n",
    "\n",
    "def write_result(result):\n",
    "    with open('result.csv', 'wb') as outcsv:\n",
    "        writer = csv.writer(outcsv)\n",
    "        writer.writerow(['ImageId', 'Label'])\n",
    "        for i in range(len(result)):\n",
    "            writer.writerow([i + 1, result[i]])"
   ]
  },
  {
   "cell_type": "code",
   "execution_count": 12,
   "metadata": {},
   "outputs": [
    {
     "name": "stdout",
     "output_type": "stream",
     "text": [
      "Generating train_data and train_labels\n",
      "Generating train_data and train_labels done!\n",
      "Generating test_data and test_labels\n",
      "Generating test_data and test_labels done!\n",
      "Start CrossValidation\n",
      "CrossValidation done!\n",
      "The score of this epoch is: 0.954571428571\n",
      "Generating train_data and train_labels\n",
      "Generating train_data and train_labels done!\n",
      "Generating test_data and test_labels\n",
      "Generating test_data and test_labels done!\n",
      "Start CrossValidation\n",
      "CrossValidation done!\n",
      "The score of this epoch is: 0.956785714286\n",
      "Generating train_data and train_labels\n",
      "Generating train_data and train_labels done!\n",
      "Generating test_data and test_labels\n",
      "Generating test_data and test_labels done!\n",
      "Start CrossValidation\n",
      "CrossValidation done!\n",
      "The score of this epoch is: 0.956857142857\n",
      "Final score is:  0.956071428571\n",
      "Confusion_matrix is:\n",
      "[[4094    7    3    1    0    4   14    0    7    2]\n",
      " [   0 4646   10    4    4    0    5    7    2    6]\n",
      " [  38   52 3977   17    3    0    4   47   33    6]\n",
      " [  12   39   26 4078    0   30    5   38   81   42]\n",
      " [   2   39    2    0 3762    1   19    5    1  241]\n",
      " [  23   21    1   95    4 3518   60    2   18   53]\n",
      " [  18    9    1    0    3   14 4084    0    8    0]\n",
      " [   5   46   13    0   15    0    0 4179    5  138]\n",
      " [  23   89    6   31   12   32   25   11 3784   50]\n",
      " [  15   14    2   40   16    7    2   41   18 4033]]\n"
     ]
    }
   ],
   "source": [
    "raw_data = pd.read_csv('data/train.csv')\n",
    "data = np.array(pd.DataFrame(raw_data.iloc[:, 1:]))\n",
    "labels = np.array(pd.DataFrame(raw_data.iloc[:, :1]))\n",
    "data[data != 0] = 1\n",
    "kf = KFold(3, True)\n",
    "total_score = 0.0\n",
    "y_pred = []\n",
    "y_true = []\n",
    "for train_index, test_index in kf.split(data):\n",
    "    train_data = data[train_index[0]]\n",
    "    train_labels = labels[train_index[0]]\n",
    "    test_data = data[test_index[0]]\n",
    "    test_labels = labels[test_index[0]]\n",
    "    print \"Generating train_data and train_labels\"\n",
    "    for i in range(1, len(train_index)):\n",
    "        train_data = np.vstack((train_data, data[train_index[i]]))\n",
    "        train_labels = np.vstack((train_labels, labels[train_index[i]]))\n",
    "    print \"Generating train_data and train_labels done!\"\n",
    "    print \"Generating test_data and test_labels\"\n",
    "    for i in range(1, len(test_index)):\n",
    "        test_data = np.vstack((test_data, data[test_index[i]]))\n",
    "        test_labels = np.vstack((test_labels, labels[test_index[i]]))\n",
    "    print \"Generating test_data and test_labels done!\"\n",
    "    correct, wrong, score = 0, 0, 0\n",
    "    print \"Start CrossValidation\"\n",
    "    for i in range(len(test_data)):\n",
    "        prediction = predict(test_data[i], train_data, train_labels, 10)\n",
    "        truth = test_labels[i][0]\n",
    "        y_pred.append(prediction)\n",
    "        y_true.append(truth)\n",
    "        if prediction == truth:\n",
    "            correct += 1\n",
    "        else:\n",
    "            wrong += 1\n",
    "    score = correct * 1.0 / (correct + wrong)\n",
    "    print \"CrossValidation done!\"\n",
    "    print \"The score of this epoch is:\",\n",
    "    print score\n",
    "    total_score += score\n",
    "print \"Final score is: \",\n",
    "print total_score / 3\n",
    "print \"Confusion_matrix is:\"\n",
    "print confusion_matrix(y_true, y_pred)"
   ]
  },
  {
   "cell_type": "code",
   "execution_count": null,
   "metadata": {
    "collapsed": true
   },
   "outputs": [],
   "source": [
    "train_data, train_labels = load_train_data()\n",
    "test_data = load_test_data()\n",
    "result = []\n",
    "for data in test_data:\n",
    "    prediction = predict(data, train_data, train_labels, 10)\n",
    "    result.append(prediction)\n",
    "write_result(result)"
   ]
  }
 ],
 "metadata": {
  "kernelspec": {
   "display_name": "Python 2",
   "language": "python",
   "name": "python2"
  },
  "language_info": {
   "codemirror_mode": {
    "name": "ipython",
    "version": 2
   },
   "file_extension": ".py",
   "mimetype": "text/x-python",
   "name": "python",
   "nbconvert_exporter": "python",
   "pygments_lexer": "ipython2",
   "version": "2.7.13"
  }
 },
 "nbformat": 4,
 "nbformat_minor": 2
}
